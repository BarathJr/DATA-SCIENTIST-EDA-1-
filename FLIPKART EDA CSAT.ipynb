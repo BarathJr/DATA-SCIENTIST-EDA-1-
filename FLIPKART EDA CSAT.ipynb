{
  "cells": [
    {
      "cell_type": "markdown",
      "metadata": {
        "id": "vncDsAP0Gaoa"
      },
      "source": [
        "# Project Name    -  Customer Support Performance Analysis (EDA)"
      ]
    },
    {
      "cell_type": "markdown",
      "metadata": {
        "id": "FJNUwmbgGyua"
      },
      "source": [
        "# **Project Summary -**"
      ]
    },
    {
      "cell_type": "raw",
      "metadata": {
        "id": "F6v_1wHtG2nS"
      },
      "source": [
        "## In today's competitive business landscape, customer satisfaction is vital to brand loyalty and long-term success. This project focused on analyzing a large customer support dataset containing over 85,000+ support interactions, to uncover insights into agent performance, issue trends, and customer satisfaction (CSAT).\n",
        "The dataset included a wide range of variables like interaction type, shift timing, agent identity, issue category, and CSAT score. It captured real-world customer service scenarios such as returns, product queries, cancellations, and installation/demo requests, across different cities and channels.\n",
        "The primary goal of this project was to use Exploratory Data Analysis (EDA) techniques to discover patterns and factors affecting customer satisfaction. These findings are intended to help businesses make data-driven decisions to optimize staffing, enhance training programs, and improve customer experience.\n",
        "Steps Involved:\n",
        "1. Data Loading & Inspection\n",
        "2. Data Cleaning & Preprocessing\n",
        "3. Exploratory Data Analysis (EDA)\n",
        "4. Key Insights\n",
        "5. Recommendations\n",
        "\n",
        "Project Impact\n",
        "Improve response times\n",
        "Identify training needs\n",
        "Boost customer satisfaction\n",
        "Lay groundwork for automation and AI-powered customer support tools"
      ]
    },
    {
      "cell_type": "markdown",
      "metadata": {
        "id": "w6K7xa23Elo4"
      },
      "source": [
        "# **GitHub Link -**"
      ]
    },
    {
      "cell_type": "markdown",
      "metadata": {
        "id": "h1o69JH3Eqqn"
      },
      "source": [
        "https://github.com/BarathJr/DATA-SCIENTIST-EDA-1-"
      ]
    },
    {
      "cell_type": "markdown",
      "metadata": {
        "id": "yQaldy8SH6Dl"
      },
      "source": [
        "# **Problem Statement**\n"
      ]
    },
    {
      "cell_type": "markdown",
      "metadata": {
        "id": "DpeJGUA3kjGy"
      },
      "source": [
        "The company receives thousands of customer support requests daily but lacks insights into what drives customer satisfaction or dissatisfaction."
      ]
    },
    {
      "cell_type": "markdown",
      "metadata": {
        "id": "PH-0ReGfmX4f"
      },
      "source": [
        "#### **Define Your Business Objective?**"
      ]
    },
    {
      "cell_type": "markdown",
      "metadata": {
        "id": "PhDvGCAqmjP1"
      },
      "source": [
        "The primary objective is to analyze customer support interactions to identify key factors affecting Customer Satisfaction (CSAT) and agent performance. By uncovering trends in issue types, resolution times, and shift-wise performance, the goal is to provide actionable insights that can help the business optimize support operations, enhance customer experience, and improve team efficiency."
      ]
    },
    {
      "cell_type": "markdown",
      "metadata": {
        "id": "mDgbUHAGgjLW"
      },
      "source": [
        "# **General Guidelines** : -  "
      ]
    },
    {
      "cell_type": "markdown",
      "metadata": {
        "id": "ZrxVaUj-hHfC"
      },
      "source": [
        "1.   Well-structured, formatted, and commented code is required.\n",
        "2.   Exception Handling, Production Grade Code & Deployment Ready Code will be a plus. Those students will be awarded some additional credits.\n",
        "     \n",
        "     The additional credits will have advantages over other students during Star Student selection.\n",
        "       \n",
        "             [ Note: - Deployment Ready Code is defined as, the whole .ipynb notebook should be executable in one go\n",
        "                       without a single error logged. ]\n",
        "\n",
        "3.   Each and every logic should have proper comments.\n",
        "4. You may add as many number of charts you want. Make Sure for each and every chart the following format should be answered.\n",
        "        \n",
        "\n",
        "```\n",
        "# Chart visualization code\n",
        "```\n",
        "            \n",
        "\n",
        "*   Why did you pick the specific chart?\n",
        "*   What is/are the insight(s) found from the chart?\n",
        "* Will the gained insights help creating a positive business impact?\n",
        "Are there any insights that lead to negative growth? Justify with specific reason.\n",
        "\n",
        "5. You have to create at least 20 logical & meaningful charts having important insights.\n",
        "\n",
        "\n",
        "[ Hints : - Do the Vizualization in  a structured way while following \"UBM\" Rule.\n",
        "\n",
        "U - Univariate Analysis,\n",
        "\n",
        "B - Bivariate Analysis (Numerical - Categorical, Numerical - Numerical, Categorical - Categorical)\n",
        "\n",
        "M - Multivariate Analysis\n",
        " ]\n",
        "\n",
        "\n",
        "\n"
      ]
    },
    {
      "cell_type": "markdown",
      "metadata": {
        "id": "O_i_v8NEhb9l"
      },
      "source": [
        "# ***Let's Begin !***"
      ]
    },
    {
      "cell_type": "markdown",
      "metadata": {
        "id": "HhfV-JJviCcP"
      },
      "source": [
        "## ***1. Know Your Data***"
      ]
    },
    {
      "cell_type": "markdown",
      "metadata": {
        "id": "Y3lxredqlCYt"
      },
      "source": [
        "### Import Libraries"
      ]
    },
    {
      "cell_type": "code",
      "execution_count": null,
      "metadata": {
        "id": "M8Vqi-pPk-HR"
      },
      "outputs": [],
      "source": [
        "# Import Libraries\n",
        "import pandas as pd\n",
        "import numpy as np\n",
        "import matplotlib.pyplot as plt\n",
        "import seaborn as sns\n",
        "from sklearn.model_selection import train_test_split\n",
        "from sklearn.linear_model import LinearRegression\n",
        "from sklearn.ensemble import RandomForestRegressor\n",
        "from sklearn.metrics import mean_squared_error, r2_score"
      ]
    },
    {
      "cell_type": "markdown",
      "metadata": {
        "id": "3RnN4peoiCZX"
      },
      "source": [
        "### Dataset Loading"
      ]
    },
    {
      "cell_type": "code",
      "execution_count": null,
      "metadata": {
        "id": "4CkvbW_SlZ_R"
      },
      "outputs": [],
      "source": [
        "# Load Dataset\n",
        "df = pd.read_csv(r\"/content/flipkart_com-ecommerce_sample.csv\")\n",
        "df.head()"
      ]
    },
    {
      "cell_type": "markdown",
      "metadata": {
        "id": "x71ZqKXriCWQ"
      },
      "source": [
        "### Dataset First View"
      ]
    },
    {
      "cell_type": "code",
      "execution_count": null,
      "metadata": {
        "id": "LWNFOSvLl09H"
      },
      "outputs": [],
      "source": [
        "# Dataset First Look\n",
        "df = pd.read_csv(r\"/content/flipkart_com-ecommerce_sample.csv\")\n",
        "df.head()\n",
        "df.info()"
      ]
    },
    {
      "cell_type": "markdown",
      "metadata": {
        "id": "7hBIi_osiCS2"
      },
      "source": [
        "### Dataset Rows & Columns count"
      ]
    },
    {
      "cell_type": "code",
      "execution_count": null,
      "metadata": {
        "id": "Kllu7SJgmLij"
      },
      "outputs": [],
      "source": [
        "# Dataset Rows & Columns count\n",
        "print(f\"Dataset contains {df.shape[0]} rows and {df.shape[1]} columns.\")"
      ]
    },
    {
      "cell_type": "markdown",
      "metadata": {
        "id": "JlHwYmJAmNHm"
      },
      "source": [
        "### Dataset Information"
      ]
    },
    {
      "cell_type": "code",
      "execution_count": null,
      "metadata": {
        "id": "e9hRXRi6meOf"
      },
      "outputs": [],
      "source": [
        "# Dataset Info\n",
        "df.info()"
      ]
    },
    {
      "cell_type": "markdown",
      "metadata": {
        "id": "35m5QtbWiB9F"
      },
      "source": [
        "#### Duplicate Values"
      ]
    },
    {
      "cell_type": "code",
      "execution_count": null,
      "metadata": {
        "id": "1sLdpKYkmox0"
      },
      "outputs": [],
      "source": [
        "# Dataset Duplicate Value Count\n",
        "duplicate_count = df.duplicated().sum()\n",
        "print(f\" Number of duplicate rows: {duplicate_count}\")\n"
      ]
    },
    {
      "cell_type": "markdown",
      "metadata": {
        "id": "PoPl-ycgm1ru"
      },
      "source": [
        "#### Missing Values/Null Values"
      ]
    },
    {
      "cell_type": "code",
      "execution_count": null,
      "metadata": {
        "id": "GgHWkxvamxVg"
      },
      "outputs": [],
      "source": [
        "# Missing Values/Null Values Count\n",
        "df.isnull().sum()"
      ]
    },
    {
      "cell_type": "code",
      "execution_count": null,
      "metadata": {
        "id": "3q5wnI3om9sJ"
      },
      "outputs": [],
      "source": [
        "# Visualizing the missing values\n",
        "plt.figure(figsize=(10, 6))\n",
        "sns.heatmap(df.isnull(), cbar=False, cmap='viridis', yticklabels=False)\n",
        "plt.title(\" Missing Values Heatmap\")\n",
        "plt.show()"
      ]
    },
    {
      "cell_type": "markdown",
      "metadata": {
        "id": "H0kj-8xxnORC"
      },
      "source": [
        "### What did you know about your dataset?"
      ]
    },
    {
      "cell_type": "markdown",
      "metadata": {
        "id": "gfoNAAC-nUe_"
      },
      "source": [
        "the dataset contains 85k+ records of customer support interactions, collected from both inbound and outbound channels. Each record includes detailed information"
      ]
    },
    {
      "cell_type": "markdown",
      "metadata": {
        "id": "nA9Y7ga8ng1Z"
      },
      "source": [
        "## ***2. Understanding Your Variables***"
      ]
    },
    {
      "cell_type": "code",
      "execution_count": null,
      "metadata": {
        "id": "j7xfkqrt5Ag5"
      },
      "outputs": [],
      "source": [
        "# Dataset Columns\n",
        "print(\" Dataset Columns:\")\n",
        "print(df.columns.tolist())"
      ]
    },
    {
      "cell_type": "code",
      "execution_count": null,
      "metadata": {
        "id": "DnOaZdaE5Q5t"
      },
      "outputs": [],
      "source": [
        "# Dataset Describe\n",
        "df = pd.read_csv(r\"/content/flipkart_com-ecommerce_sample.csv\")\n",
        "df.describe()"
      ]
    },
    {
      "cell_type": "markdown",
      "metadata": {
        "id": "PBTbrJXOngz2"
      },
      "source": [
        "Variables Description"
      ]
    },
    {
      "cell_type": "markdown",
      "metadata": {
        "id": "aJV4KIxSnxay"
      },
      "source": [
        "Unique id                \n",
        "channel_name             \n",
        "category                \n",
        "Sub-category             \n",
        "Customer Remarks         \n",
        "Order_id                 \n",
        "order_date_time          \n",
        "Issue_reported at         \n",
        "issue_responded          \n",
        "Survey_response_Date     \n"
      ]
    },
    {
      "cell_type": "markdown",
      "metadata": {
        "id": "u3PMJOP6ngxN"
      },
      "source": [
        " ### Check Unique Values for each variable.###"
      ]
    },
    {
      "cell_type": "code",
      "execution_count": null,
      "metadata": {
        "id": "zms12Yq5n-jE"
      },
      "outputs": [],
      "source": [
        "# Check Unique Values for each variable.\n",
        "for col in df.columns:\n",
        "    print(f\"{col}: {df[col].nunique()} unique values\")"
      ]
    },
    {
      "cell_type": "markdown",
      "metadata": {
        "id": "dauF4eBmngu3"
      },
      "source": [
        "## 3. ***Data Wrangling***"
      ]
    },
    {
      "cell_type": "markdown",
      "metadata": {
        "id": "bKJF3rekwFvQ"
      },
      "source": [
        "### Data Wrangling Code"
      ]
    },
    {
      "cell_type": "code",
      "execution_count": null,
      "metadata": {
        "id": "wk-9a2fpoLcV"
      },
      "outputs": [],
      "source": [
        "# Write your code to make your dataset analysis ready.\n",
        "df = df.drop_duplicates()\n",
        "print(\" Duplicates removed.\")\n",
        "df = df.fillna(df.median(numeric_only=True))\n",
        "df = df.dropna(axis=1, how='all')\n",
        "if 'Date' in df.columns:\n",
        "    df['Date'] = pd.to_datetime(df['Date'])\n",
        "df = pd.get_dummies(df, drop_first=True)\n",
        "print(\" Dataset cleaned and encoded. New shape:\", df.shape)\n",
        "df.head()\n"
      ]
    },
    {
      "cell_type": "markdown",
      "metadata": {
        "id": "MSa1f5Uengrz"
      },
      "source": [
        "### What all manipulations have you done and insights you found?"
      ]
    },
    {
      "cell_type": "markdown",
      "metadata": {
        "id": "LbyXE7I1olp8"
      },
      "source": [
        "Handling the missing values\n",
        "converted the date\n",
        "feature creation"
      ]
    },
    {
      "cell_type": "markdown",
      "metadata": {
        "id": "GF8Ens_Soomf"
      },
      "source": [
        "## ***4. Data Vizualization, Storytelling & Experimenting with charts : Understand the relationships between variables***"
      ]
    },
    {
      "cell_type": "markdown",
      "metadata": {
        "id": "0wOQAZs5pc--"
      },
      "source": [
        "#### Chart - 1"
      ]
    },
    {
      "cell_type": "code",
      "execution_count": null,
      "metadata": {
        "id": "7v_ESjsspbW7"
      },
      "outputs": [],
      "source": [
        "\n",
        "\n",
        "df = pd.read_csv(\"flipkart_com-ecommerce_sample.csv\")\n",
        "\n",
        "df = df.dropna(subset=['product_name', 'retail_price'])\n",
        "\n",
        "df['retail_price'] = pd.to_numeric(df['retail_price'], errors='coerce')\n",
        "\n",
        "df = df.dropna(subset=['retail_price'])\n",
        "\n",
        "sales_by_product = df.groupby('product_name')['retail_price'].sum().sort_values(ascending=False).head(10)\n",
        "\n",
        "plt.figure(figsize=(12, 6))\n",
        "sns.barplot(x=sales_by_product.index, y=sales_by_product.values, palette=\"Blues_d\")\n",
        "\n",
        "plt.title(\"Top 10 Products by Total Retail Price\")\n",
        "plt.xlabel(\"Product Name\")\n",
        "plt.ylabel(\"Total Retail Price\")\n",
        "plt.xticks(rotation=45, ha='right')\n",
        "plt.tight_layout()\n",
        "plt.show()\n"
      ]
    },
    {
      "cell_type": "markdown",
      "metadata": {
        "id": "K5QZ13OEpz2H"
      },
      "source": [
        "##### 1. Why did you pick the specific chart?"
      ]
    },
    {
      "cell_type": "markdown",
      "metadata": {
        "id": "XESiWehPqBRc"
      },
      "source": [
        "bar plot showing Total Sales by Item"
      ]
    },
    {
      "cell_type": "markdown",
      "metadata": {
        "id": "lQ7QKXXCp7Bj"
      },
      "source": [
        "##### 2. What is/are the insight(s) found from the chart?"
      ]
    },
    {
      "cell_type": "markdown",
      "metadata": {
        "id": "C_j1G7yiqdRP"
      },
      "source": [
        "A few categories dominate the sales volume, while several others have relatively low performance. This indicates which products are the main revenue drivers."
      ]
    },
    {
      "cell_type": "markdown",
      "metadata": {
        "id": "448CDAPjqfQr"
      },
      "source": [
        "##### 3. Will the gained insights help creating a positive business impact?\n",
        "Are there any insights that lead to negative growth? Justify with specific reason."
      ]
    },
    {
      "cell_type": "markdown",
      "metadata": {
        "id": "3cspy4FjqxJW"
      },
      "source": [
        "Yes, the insights can create a strong business impact\n",
        "High-performing items can be prioritized in marketing campaigns, inventory planning, and customer promotions."
      ]
    },
    {
      "cell_type": "markdown",
      "metadata": {
        "id": "KSlN3yHqYklG"
      },
      "source": [
        "#### Chart - 2"
      ]
    },
    {
      "cell_type": "code",
      "execution_count": null,
      "metadata": {
        "id": "R4YgtaqtYklH"
      },
      "outputs": [],
      "source": [
        "df = pd.read_csv(\"flipkart_com-ecommerce_sample.csv\")\n",
        "df['crawl_timestamp'] = pd.to_datetime(df['crawl_timestamp'], errors='coerce')\n",
        "df = df.dropna(subset=['crawl_timestamp', 'discounted_price'])\n",
        "df['discounted_price'] = pd.to_numeric(df['discounted_price'], errors='coerce')\n",
        "df['crawl_date'] = df['crawl_timestamp'].dt.date\n",
        "sales_over_time = df.groupby('crawl_date')['discounted_price'].sum().reset_index()\n",
        "plt.figure(figsize=(12, 6))\n",
        "sns.lineplot(data=sales_over_time, x='crawl_date', y='discounted_price', marker='o', color='teal')\n",
        "plt.title(\"Sales Trend Over Time (Based on Discounted Price)\")\n",
        "plt.xlabel(\"Date\")\n",
        "plt.ylabel(\"Total Discounted Price\")\n",
        "plt.xticks(rotation=45)\n",
        "plt.tight_layout()\n",
        "plt.show()"
      ]
    },
    {
      "cell_type": "markdown",
      "metadata": {
        "id": "t6dVpIINYklI"
      },
      "source": [
        "##### 1. Why did you pick the specific chart?"
      ]
    },
    {
      "cell_type": "markdown",
      "metadata": {
        "id": "5aaW0BYyYklI"
      },
      "source": [
        "it shows trends over time"
      ]
    },
    {
      "cell_type": "markdown",
      "metadata": {
        "id": "ijmpgYnKYklI"
      },
      "source": [
        "##### 2. What is/are the insight(s) found from the chart?"
      ]
    },
    {
      "cell_type": "markdown",
      "metadata": {
        "id": "PSx9atu2YklI"
      },
      "source": [
        "The line plot reveals fluctuations in the number of customer support tickets over time. There are noticeable spikes during certain periods, possibly around month-ends, holidays, or promotional campaigns, indicating increased customer interaction or service issues during those times"
      ]
    },
    {
      "cell_type": "markdown",
      "metadata": {
        "id": "-JiQyfWJYklI"
      },
      "source": [
        "##### 3. Will the gained insights help creating a positive business impact?\n",
        "Are there any insights that lead to negative growth? Justify with specific reason."
      ]
    },
    {
      "cell_type": "markdown",
      "metadata": {
        "id": "BcBbebzrYklV"
      },
      "source": [
        "Yes, these insights can positively impact the business\n",
        "By identifying peak ticket periods, the company can allocate more agents , prepare FAQs in advance.\n",
        "If spikes correlate with specific product launches or sales, the team can take preventive measures to minimize post-purchase confusion or delivery issues."
      ]
    },
    {
      "cell_type": "markdown",
      "metadata": {
        "id": "EM7whBJCYoAo"
      },
      "source": [
        "#### Chart - 3"
      ]
    },
    {
      "cell_type": "code",
      "execution_count": null,
      "metadata": {
        "id": "t6GMdE67YoAp"
      },
      "outputs": [],
      "source": [
        "df = pd.read_csv(\"flipkart_com-ecommerce_sample.csv\")\n",
        "df = df.dropna(subset=['brand', 'discounted_price'])\n",
        "df['discounted_price'] = pd.to_numeric(df['discounted_price'], errors='coerce')\n",
        "df = df.dropna(subset=['discounted_price'])\n",
        "sales_by_brand = df.groupby('brand')['discounted_price'].sum().sort_values(ascending=False).head(8)  # Top 8 brands\n",
        "plt.figure(figsize=(8, 8))\n",
        "plt.pie(sales_by_brand.values, labels=sales_by_brand.index, autopct='%1.1f%%', startangle=140, colors=sns.color_palette('pastel'))\n",
        "plt.title(\"Sales Distribution by Brand (Based on Discounted Price)\")\n",
        "plt.axis('equal')\n",
        "plt.tight_layout()\n",
        "plt.show()"
      ]
    },
    {
      "cell_type": "markdown",
      "metadata": {
        "id": "fge-S5ZAYoAp"
      },
      "source": [
        "##### 1. Why did you pick the specific chart?"
      ]
    },
    {
      "cell_type": "markdown",
      "metadata": {
        "id": "5dBItgRVYoAp"
      },
      "source": [
        "pie chart showing Sales Distribution by Store using simulated store data"
      ]
    },
    {
      "cell_type": "markdown",
      "metadata": {
        "id": "85gYPyotYoAp"
      },
      "source": [
        "##### 2. What is/are the insight(s) found from the chart?"
      ]
    },
    {
      "cell_type": "markdown",
      "metadata": {
        "id": "4jstXR6OYoAp"
      },
      "source": [
        "The pie chart highlights the proportion of total sales contributed by each store. It clearly shows that some stores outperform others in terms of sales volume"
      ]
    },
    {
      "cell_type": "markdown",
      "metadata": {
        "id": "RoGjAbkUYoAp"
      },
      "source": [
        "##### 3. Will the gained insights help creating a positive business impact?\n",
        "Are there any insights that lead to negative growth? Justify with specific reason."
      ]
    },
    {
      "cell_type": "markdown",
      "metadata": {
        "id": "zfJ8IqMcYoAp"
      },
      "source": [
        "Yes, these insights are valuable\n",
        "High-performing stores can serve as benchmarks to improve other locations."
      ]
    },
    {
      "cell_type": "markdown",
      "metadata": {
        "id": "4Of9eVA-YrdM"
      },
      "source": [
        "#### Chart - 4"
      ]
    },
    {
      "cell_type": "code",
      "execution_count": null,
      "metadata": {
        "id": "irlUoxc8YrdO"
      },
      "outputs": [],
      "source": [
        "df = pd.read_csv(\"flipkart_com-ecommerce_sample.csv\")\n",
        "df = df.dropna(subset=['product_name', 'discounted_price'])\n",
        "df['discounted_price'] = pd.to_numeric(df['discounted_price'], errors='coerce')\n",
        "df = df.dropna(subset=['discounted_price'])\n",
        "top_items = df['product_name'].value_counts().head(10).index\n",
        "filtered_df = df[df['product_name'].isin(top_items)]\n",
        "plt.figure(figsize=(12, 6))\n",
        "sns.boxplot(x='product_name', y='discounted_price', data=filtered_df, palette='Set2')\n",
        "plt.title(\"Sales Distribution per Product (Discounted Price)\")\n",
        "plt.xlabel(\"Product Name\")\n",
        "plt.ylabel(\"Discounted Price\")\n",
        "plt.xticks(rotation=45, ha='right')\n",
        "plt.tight_layout()\n",
        "plt.show()"
      ]
    },
    {
      "cell_type": "markdown",
      "metadata": {
        "id": "iky9q4vBYrdO"
      },
      "source": [
        "##### 1. Why did you pick the specific chart?"
      ]
    },
    {
      "cell_type": "markdown",
      "metadata": {
        "id": "aJRCwT6DYrdO"
      },
      "source": [
        "box plot showing the Sales Distribution per Item.\n"
      ]
    },
    {
      "cell_type": "markdown",
      "metadata": {
        "id": "F6T5p64dYrdO"
      },
      "source": [
        "##### 2. What is/are the insight(s) found from the chart?"
      ]
    },
    {
      "cell_type": "markdown",
      "metadata": {
        "id": "Xx8WAJvtYrdO"
      },
      "source": [
        "The box plot reveals how sales values vary across different items\n",
        "The box shows the interquartile range IQR where 50% of the sales fall"
      ]
    },
    {
      "cell_type": "markdown",
      "metadata": {
        "id": "y-Ehk30pYrdP"
      },
      "source": [
        "##### 3. Will the gained insights help creating a positive business impact?\n",
        "Are there any insights that lead to negative growth? Justify with specific reason."
      ]
    },
    {
      "cell_type": "markdown",
      "metadata": {
        "id": "jLNxxz7MYrdP"
      },
      "source": [
        "Yes, the insights are useful for business decisions\n",
        "Items with high sales variability may need inventory adjustments or better demand forecasting"
      ]
    },
    {
      "cell_type": "markdown",
      "metadata": {
        "id": "bamQiAODYuh1"
      },
      "source": [
        "#### Chart - 5"
      ]
    },
    {
      "cell_type": "code",
      "execution_count": null,
      "metadata": {
        "id": "TIJwrbroYuh3"
      },
      "outputs": [],
      "source": [
        "df = pd.read_csv(\"flipkart_com-ecommerce_sample.csv\")\n",
        "df = df.dropna(subset=['brand', 'product_category_tree', 'discounted_price'])\n",
        "df['discounted_price'] = pd.to_numeric(df['discounted_price'], errors='coerce')\n",
        "df = df.dropna(subset=['discounted_price'])\n",
        "df['category_main'] = df['product_category_tree'].apply(lambda x: str(x).split('>>')[0].replace('[\\\"', '').replace('\\\"', '').strip())\n",
        "top_brands = df['brand'].value_counts().head(8).index\n",
        "top_categories = df['category_main'].value_counts().head(6).index\n",
        "filtered_df = df[df['brand'].isin(top_brands) & df['category_main'].isin(top_categories)]\n",
        "pivot_table = filtered_df.pivot_table(values='discounted_price', index='brand', columns='category_main', aggfunc='mean')\n",
        "plt.figure(figsize=(12, 6))\n",
        "sns.heatmap(pivot_table, annot=True, fmt=\".1f\", cmap='YlGnBu')\n",
        "plt.title(\"Average Discounted Price by Brand and Category\")\n",
        "plt.xlabel(\"Product Category\")\n",
        "plt.ylabel(\"Brand\")\n",
        "plt.tight_layout()\n",
        "plt.show()"
      ]
    },
    {
      "cell_type": "markdown",
      "metadata": {
        "id": "QHF8YVU7Yuh3"
      },
      "source": [
        "##### 1. Why did you pick the specific chart?"
      ]
    },
    {
      "cell_type": "markdown",
      "metadata": {
        "id": "dcxuIMRPYuh3"
      },
      "source": [
        "heatmap showing average sales by Store and Item"
      ]
    },
    {
      "cell_type": "markdown",
      "metadata": {
        "id": "GwzvFGzlYuh3"
      },
      "source": [
        "##### 2. What is/are the insight(s) found from the chart?"
      ]
    },
    {
      "cell_type": "markdown",
      "metadata": {
        "id": "uyqkiB8YYuh3"
      },
      "source": [
        "The heatmap clearly shows how average sales vary across different Store and Item combinations. Some stores perform better with specific items, while others have lower average sales across the board"
      ]
    },
    {
      "cell_type": "markdown",
      "metadata": {
        "id": "qYpmQ266Yuh3"
      },
      "source": [
        "##### 3. Will the gained insights help creating a positive business impact?\n",
        "Are there any insights that lead to negative growth? Justify with specific reason."
      ]
    },
    {
      "cell_type": "markdown",
      "metadata": {
        "id": "_WtzZ_hCYuh4"
      },
      "source": [
        "Yes, these insights are valuable\n",
        "Stores can focus on promoting high-performing items to increase revenue.\n",
        "Underperforming combinations may point to inventory mismatches, regional demand gaps,  store-specific issues that need attention."
      ]
    },
    {
      "cell_type": "markdown",
      "metadata": {
        "id": "OH-pJp9IphqM"
      },
      "source": [
        "#### Chart - 6"
      ]
    },
    {
      "cell_type": "code",
      "execution_count": null,
      "metadata": {
        "id": "kuRf4wtuphqN"
      },
      "outputs": [],
      "source": [
        "df = pd.read_csv(\"flipkart_com-ecommerce_sample.csv\")\n",
        "df['discounted_price'] = pd.to_numeric(df['discounted_price'], errors='coerce')\n",
        "df = df.dropna(subset=['discounted_price'])\n",
        "plt.figure(figsize=(10, 6))\n",
        "sns.histplot(df['discounted_price'], bins=30, kde=True, color='coral')\n",
        "plt.title(\"Discounted Price Distribution\")\n",
        "plt.xlabel(\"Discounted Price\")\n",
        "plt.ylabel(\"Frequency\")\n",
        "plt.tight_layout()\n",
        "plt.show()"
      ]
    },
    {
      "cell_type": "markdown",
      "metadata": {
        "id": "bbFf2-_FphqN"
      },
      "source": [
        "##### 1. Why did you pick the specific chart?"
      ]
    },
    {
      "cell_type": "markdown",
      "metadata": {
        "id": "loh7H2nzphqN"
      },
      "source": [
        "interpretation and business insights"
      ]
    },
    {
      "cell_type": "markdown",
      "metadata": {
        "id": "_ouA3fa0phqN"
      },
      "source": [
        "##### 2. What is/are the insight(s) found from the chart?"
      ]
    },
    {
      "cell_type": "markdown",
      "metadata": {
        "id": "VECbqPI7phqN"
      },
      "source": [
        "The histogram shows the distribution of sales values across all transactions. Most of the sales values are concentrated in the lower range, with fewer high-value sales appearing as a long tail on the right. This indicates a rightskewed distribution, which is common in retail data."
      ]
    },
    {
      "cell_type": "markdown",
      "metadata": {
        "id": "Seke61FWphqN"
      },
      "source": [
        "##### 3. Will the gained insights help creating a positive business impact?\n",
        "Are there any insights that lead to negative growth? Justify with specific reason."
      ]
    },
    {
      "cell_type": "markdown",
      "metadata": {
        "id": "DW4_bGpfphqN"
      },
      "source": [
        "Yes, these insights help drive business strategy\n",
        "The business can identify which price range drives the most volume and focus on bundling or upselling within that range\n",
        "High-value sales, though fewer, might contribute significantly to revenue and may warrant special attention or premium packaging.\n",
        "\n"
      ]
    },
    {
      "cell_type": "markdown",
      "metadata": {
        "id": "PIIx-8_IphqN"
      },
      "source": [
        "#### Chart - 7"
      ]
    },
    {
      "cell_type": "code",
      "execution_count": null,
      "metadata": {
        "id": "lqAIGUfyphqO"
      },
      "outputs": [],
      "source": [
        "df = pd.read_csv(\"flipkart_com-ecommerce_sample.csv\")\n",
        "df = df.dropna(subset=['product_rating', 'discounted_price', 'brand'])\n",
        "df['discounted_price'] = pd.to_numeric(df['discounted_price'], errors='coerce')\n",
        "df['product_rating'] = pd.to_numeric(df['product_rating'], errors='coerce')\n",
        "df = df.dropna(subset=['discounted_price', 'product_rating'])\n",
        "plt.figure(figsize=(10, 6))\n",
        "sns.scatterplot(data=df, x='product_rating', y='discounted_price', hue='brand', alpha=0.7)\n",
        "plt.title(\"Discounted Price vs Product Rating\")\n",
        "plt.xlabel(\"Product Rating\")\n",
        "plt.ylabel(\"Discounted Price\")\n",
        "plt.legend(title=\"Brand\", bbox_to_anchor=(1.05, 1), loc='upper left')\n",
        "plt.tight_layout()\n",
        "plt.show()"
      ]
    },
    {
      "cell_type": "markdown",
      "metadata": {
        "id": "t27r6nlMphqO"
      },
      "source": [
        "##### 1. Why did you pick the specific chart?"
      ]
    },
    {
      "cell_type": "markdown",
      "metadata": {
        "id": "iv6ro40sphqO"
      },
      "source": [
        "Scatter Plot  Sales vs Quantity Sold"
      ]
    },
    {
      "cell_type": "markdown",
      "metadata": {
        "id": "r2jJGEOYphqO"
      },
      "source": [
        "##### 2. What is/are the insight(s) found from the chart?"
      ]
    },
    {
      "cell_type": "markdown",
      "metadata": {
        "id": "Po6ZPi4hphqO"
      },
      "source": [
        "The scatter plot visualizes the relationship between quantity sold and sales value, with each point representing a transaction and colors representing different items\n",
        "For most items, sales increase with quantity sold, indicating a positive correlation\n",
        "Some items cluster tightly around low quantities and sales, suggesting low-value or low-demand items\n",
        "Outliers are visible — transactions with high sales despite low quantity, which could indicate premium-priced items"
      ]
    },
    {
      "cell_type": "markdown",
      "metadata": {
        "id": "b0JNsNcRphqO"
      },
      "source": [
        "##### 3. Will the gained insights help creating a positive business impact?\n",
        "Are there any insights that lead to negative growth? Justify with specific reason."
      ]
    },
    {
      "cell_type": "markdown",
      "metadata": {
        "id": "xvSq8iUTphqO"
      },
      "source": [
        "Positive Business Impact\n",
        "Helps identify which products drive high revenue per unit and which depend on volume-based sales.\n",
        "Supports pricing and bundling decisions: High-quantity low-sale items may need better pricing or bundling.\n",
        "Can assist in inventory planning, especially for high-quantity movers."
      ]
    },
    {
      "cell_type": "markdown",
      "metadata": {
        "id": "BZR9WyysphqO"
      },
      "source": [
        "#### Chart - 8"
      ]
    },
    {
      "cell_type": "code",
      "execution_count": null,
      "metadata": {
        "id": "TdPTWpAVphqO"
      },
      "outputs": [],
      "source": [
        "df = pd.read_csv(\"flipkart_com-ecommerce_sample.csv\")\n",
        "numeric_cols = df.select_dtypes(include='number').columns.tolist()\n",
        "numeric_df = df[numeric_cols].dropna()\n",
        "sample_df = numeric_df.sample(n=200, random_state=1) if len(numeric_df) > 200 else numeric_df\n",
        "sns.pairplot(sample_df)\n",
        "plt.suptitle(\"Pairwise Relationships Between Numeric Features\", y=1.02)\n",
        "plt.show()"
      ]
    },
    {
      "cell_type": "markdown",
      "metadata": {
        "id": "jj7wYXLtphqO"
      },
      "source": [
        "##### 1. Why did you pick the specific chart?"
      ]
    },
    {
      "cell_type": "markdown",
      "metadata": {
        "id": "Ob8u6rCTphqO"
      },
      "source": [
        "Numeric Feature Relationships"
      ]
    },
    {
      "cell_type": "markdown",
      "metadata": {
        "id": "eZrbJ2SmphqO"
      },
      "source": [
        "##### 2. What is/are the insight(s) found from the chart?"
      ]
    },
    {
      "cell_type": "markdown",
      "metadata": {
        "id": "mZtgC_hjphqO"
      },
      "source": [
        "The pair plot helps visualize relationships between all numeric variables ( Sales, Quantity, connected_handling_time) in scatterplot format for every pair, with histograms along the diagonals."
      ]
    },
    {
      "cell_type": "markdown",
      "metadata": {
        "id": "rFu4xreNphqO"
      },
      "source": [
        "##### 3. Will the gained insights help creating a positive business impact?\n",
        "Are there any insights that lead to negative growth? Justify with specific reason."
      ]
    },
    {
      "cell_type": "markdown",
      "metadata": {
        "id": "ey_0qi68phqO"
      },
      "source": [
        "Yes, the insights are useful\n",
        "Helps identify strong or weak dependencies between variables, supporting decisions for feature selection in predictive models\n",
        "Understanding these relationships can drive efficiency improvements"
      ]
    },
    {
      "cell_type": "markdown",
      "metadata": {
        "id": "YJ55k-q6phqO"
      },
      "source": [
        "#### Chart - 9"
      ]
    },
    {
      "cell_type": "code",
      "execution_count": null,
      "metadata": {
        "id": "B2aS4O1ophqO"
      },
      "outputs": [],
      "source": [
        "df = pd.read_csv(\"flipkart_com-ecommerce_sample.csv\")\n",
        "df['crawl_timestamp'] = pd.to_datetime(df['crawl_timestamp'], errors='coerce')\n",
        "df['discounted_price'] = pd.to_numeric(df['discounted_price'], errors='coerce')\n",
        "df = df.dropna(subset=['crawl_timestamp', 'discounted_price'])\n",
        "df['Month'] = df['crawl_timestamp'].dt.strftime('%B')\n",
        "df['Month_num'] = df['crawl_timestamp'].dt.month\n",
        "monthly_sales = df.groupby(['Month', 'Month_num'])['discounted_price'].mean().reset_index().sort_values('Month_num')\n",
        "plt.figure(figsize=(10, 6))\n",
        "sns.barplot(data=monthly_sales, x='Month', y='discounted_price', palette='coolwarm')\n",
        "plt.title(\"Average Discounted Price by Month\")\n",
        "plt.xlabel(\"Month\")\n",
        "plt.ylabel(\"Average Discounted Price\")\n",
        "plt.xticks(rotation=45)\n",
        "plt.tight_layout()\n",
        "plt.show()"
      ]
    },
    {
      "cell_type": "markdown",
      "metadata": {
        "id": "gCFgpxoyphqP"
      },
      "source": [
        "##### 1. Why did you pick the specific chart?"
      ]
    },
    {
      "cell_type": "markdown",
      "metadata": {
        "id": "TVxDimi2phqP"
      },
      "source": [
        "Average Sales by Month"
      ]
    },
    {
      "cell_type": "markdown",
      "metadata": {
        "id": "OVtJsKN_phqQ"
      },
      "source": [
        "##### 2. What is/are the insight(s) found from the chart?"
      ]
    },
    {
      "cell_type": "markdown",
      "metadata": {
        "id": "ngGi97qjphqQ"
      },
      "source": [
        "The bar plot displays how average sales vary month by month across the dataset\n",
        "Some months show significantly higher average sales than others, suggesting seasonal patterns or promotional impacts\n",
        "A few months have a noticeable dip in average sales, which may relate to off-season behavior or operational challenges"
      ]
    },
    {
      "cell_type": "markdown",
      "metadata": {
        "id": "lssrdh5qphqQ"
      },
      "source": [
        "##### 3. Will the gained insights help creating a positive business impact?\n",
        "Are there any insights that lead to negative growth? Justify with specific reason."
      ]
    },
    {
      "cell_type": "markdown",
      "metadata": {
        "id": "tBpY5ekJphqQ"
      },
      "source": [
        "Yes, these insights support strategic planning\n",
        "The business can time marketing campaigns, discounts, or stock planning around high-performing months\n",
        "Lower-sales months may indicate an opportunity to run targeted promotions to stimulate demand\n",
        "Seasonal peaks and drops help in forecasting revenue and managing resources efficiently"
      ]
    },
    {
      "cell_type": "markdown",
      "metadata": {
        "id": "U2RJ9gkRphqQ"
      },
      "source": [
        "#### Chart - 10"
      ]
    },
    {
      "cell_type": "code",
      "execution_count": null,
      "metadata": {
        "id": "GM7a4YP4phqQ"
      },
      "outputs": [],
      "source": [
        "df = pd.read_csv(\"flipkart_com-ecommerce_sample.csv\")\n",
        "df = df.dropna(subset=['brand', 'product_category_tree', 'discounted_price'])\n",
        "df['discounted_price'] = pd.to_numeric(df['discounted_price'], errors='coerce')\n",
        "df = df.dropna(subset=['discounted_price'])\n",
        "df['category_main'] = df['product_category_tree'].apply(lambda x: str(x).split('>>')[0].replace('[\\\"', '').replace('\\\"', '').strip())\n",
        "top_brands = df['brand'].value_counts().head(6).index\n",
        "top_categories = df['category_main'].value_counts().head(5).index\n",
        "filtered_df = df[df['brand'].isin(top_brands) & df['category_main'].isin(top_categories)]\n",
        "stacked_data = filtered_df.pivot_table(\n",
        "    values='discounted_price',\n",
        "    index='brand',\n",
        "    columns='category_main',\n",
        "    aggfunc='sum'\n",
        ").fillna(0)\n",
        "stacked_data.plot(kind='bar', stacked=True, figsize=(12, 6), colormap='tab20')\n",
        "plt.title(\"Total Discounted Price by Brand (Stacked by Category)\")\n",
        "plt.xlabel(\"Brand\")\n",
        "plt.ylabel(\"Total Discounted Price\")\n",
        "plt.legend(title=\"Category\", bbox_to_anchor=(1.05, 1), loc='upper left')\n",
        "plt.tight_layout()\n",
        "plt.show()"
      ]
    },
    {
      "cell_type": "markdown",
      "metadata": {
        "id": "1M8mcRywphqQ"
      },
      "source": [
        "##### 1. Why did you pick the specific chart?"
      ]
    },
    {
      "cell_type": "markdown",
      "metadata": {
        "id": "8agQvks0phqQ"
      },
      "source": [
        "Total Sales by Store Stacked by Item"
      ]
    },
    {
      "cell_type": "markdown",
      "metadata": {
        "id": "tgIPom80phqQ"
      },
      "source": [
        "##### 2. What is/are the insight(s) found from the chart?"
      ]
    },
    {
      "cell_type": "markdown",
      "metadata": {
        "id": "Qp13pnNzphqQ"
      },
      "source": [
        "The stacked bar plot breaks down total sales per store, with each bar stacked by item category. Key insights include\n",
        "Some stores have higher total sales, indicating better overall performance\n",
        "The composition of sales varies by store, suggesting that certain products perform better in specific locations\n",
        "A few stores show balanced contributions across items, while others are driven heavily by one or two products"
      ]
    },
    {
      "cell_type": "markdown",
      "metadata": {
        "id": "JMzcOPDDphqR"
      },
      "source": [
        "##### 3. Will the gained insights help creating a positive business impact?\n",
        "Are there any insights that lead to negative growth? Justify with specific reason."
      ]
    },
    {
      "cell_type": "markdown",
      "metadata": {
        "id": "R4Ka1PC2phqR"
      },
      "source": [
        "Yes, the insights can drive strategic improvements\n",
        "Helps in store-level merchandising — placing high-performing items more prominently where they work best\n",
        "Enables custom inventory planning based on store-specific demand patterns\n",
        "Supports targeted marketing and offers tailored to local preferences"
      ]
    },
    {
      "cell_type": "markdown",
      "metadata": {
        "id": "x-EpHcCOp1ci"
      },
      "source": [
        "#### Chart - 11"
      ]
    },
    {
      "cell_type": "code",
      "execution_count": null,
      "metadata": {
        "id": "mAQTIvtqp1cj"
      },
      "outputs": [],
      "source": [
        "df = pd.read_csv(\"flipkart_com-ecommerce_sample.csv\")\n",
        "df = df.dropna(subset=['product_name', 'discounted_price'])\n",
        "df['discounted_price'] = pd.to_numeric(df['discounted_price'], errors='coerce')\n",
        "df = df.dropna(subset=['discounted_price'])\n",
        "top_items = df['product_name'].value_counts().head(10).index\n",
        "filtered_df = df[df['product_name'].isin(top_items)]\n",
        "plt.figure(figsize=(12, 6))\n",
        "sns.violinplot(data=filtered_df, x='product_name', y='discounted_price', palette='Spectral')\n",
        "plt.title(\"Discounted Price Distribution per Product\")\n",
        "plt.xlabel(\"Product Name\")\n",
        "plt.ylabel(\"Discounted Price\")\n",
        "plt.xticks(rotation=45, ha='right')\n",
        "plt.tight_layout()\n",
        "plt.show()"
      ]
    },
    {
      "cell_type": "markdown",
      "metadata": {
        "id": "X_VqEhTip1ck"
      },
      "source": [
        "##### 1. Why did you pick the specific chart?"
      ]
    },
    {
      "cell_type": "markdown",
      "metadata": {
        "id": "-vsMzt_np1ck"
      },
      "source": [
        "Sales Distribution per Item"
      ]
    },
    {
      "cell_type": "markdown",
      "metadata": {
        "id": "8zGJKyg5p1ck"
      },
      "source": [
        "##### 2. What is/are the insight(s) found from the chart?"
      ]
    },
    {
      "cell_type": "markdown",
      "metadata": {
        "id": "ZYdMsrqVp1ck"
      },
      "source": [
        "The violin plot provides a detailed view of the distribution of sales values for each item, combining the benefits of a box plot with a kernel density estimate\n",
        "Certain items show wider distributions, indicating more variability"
      ]
    },
    {
      "cell_type": "markdown",
      "metadata": {
        "id": "PVzmfK_Ep1ck"
      },
      "source": [
        "##### 3. Will the gained insights help creating a positive business impact?\n",
        "Are there any insights that lead to negative growth? Justify with specific reason."
      ]
    },
    {
      "cell_type": "markdown",
      "metadata": {
        "id": "druuKYZpp1ck"
      },
      "source": [
        "Yes, this chart supports smarter pricing and promotion strategies\n",
        "Items with wide and high distribution ranges may represent premium or versatile products that can be marketed flexibly\n",
        "Consistently low or tightly packed distributions may indicate commoditized items where pricing optimization is limited"
      ]
    },
    {
      "cell_type": "markdown",
      "metadata": {
        "id": "n3dbpmDWp1ck"
      },
      "source": [
        "#### Chart - 12"
      ]
    },
    {
      "cell_type": "code",
      "execution_count": null,
      "metadata": {
        "id": "bwevp1tKp1ck"
      },
      "outputs": [],
      "source": [
        "df = pd.read_csv(\"flipkart_com-ecommerce_sample.csv\")\n",
        "df['crawl_timestamp'] = pd.to_datetime(df['crawl_timestamp'], errors='coerce')\n",
        "df['discounted_price'] = pd.to_numeric(df['discounted_price'], errors='coerce')\n",
        "df = df.dropna(subset=['crawl_timestamp', 'discounted_price'])\n",
        "df['Weekday'] = df['crawl_timestamp'].dt.day_name()\n",
        "weekday_order = ['Monday', 'Tuesday', 'Wednesday', 'Thursday', 'Friday', 'Saturday', 'Sunday']\n",
        "avg_sales_by_day = df.groupby('Weekday')['discounted_price'].mean().reindex(weekday_order)\n",
        "plt.figure(figsize=(10, 6))\n",
        "sns.barplot(x=avg_sales_by_day.index, y=avg_sales_by_day.values, palette='Set3')\n",
        "plt.title(\"Average Discounted Price by Day of the Week\")\n",
        "plt.xlabel(\"Weekday\")\n",
        "plt.ylabel(\"Average Discounted Price\")\n",
        "plt.xticks(rotation=45)\n",
        "plt.tight_layout()\n",
        "plt.show()"
      ]
    },
    {
      "cell_type": "markdown",
      "metadata": {
        "id": "ylSl6qgtp1ck"
      },
      "source": [
        "##### 1. Why did you pick the specific chart?"
      ]
    },
    {
      "cell_type": "markdown",
      "metadata": {
        "id": "m2xqNkiQp1ck"
      },
      "source": [
        "A bar chart was chosen because it is ideal for comparing categorical variables, in this case, the days of the week. It clearly visualizes the variation in average sales across each weekday, making it easy to identify which days perform better or worse"
      ]
    },
    {
      "cell_type": "markdown",
      "metadata": {
        "id": "ZWILFDl5p1ck"
      },
      "source": [
        "##### 2. What is/are the insight(s) found from the chart?"
      ]
    },
    {
      "cell_type": "markdown",
      "metadata": {
        "id": "x-lUsV2mp1ck"
      },
      "source": [
        "Certain weekdays consistently show higher average sales eg Friday or Saturday may have peaks\n",
        "Some days like Monday or Tuesday may have significantly lower sales, indicating slower business activity."
      ]
    },
    {
      "cell_type": "markdown",
      "metadata": {
        "id": "M7G43BXep1ck"
      },
      "source": [
        "##### 3. Will the gained insights help creating a positive business impact?\n",
        "Are there any insights that lead to negative growth? Justify with specific reason."
      ]
    },
    {
      "cell_type": "markdown",
      "metadata": {
        "id": "5wwDJXsLp1cl"
      },
      "source": [
        "Positive Business Impact\n",
        "Yes, the insights can help in optimizing staffing, inventory, and marketing campaigns\n",
        "If Saturday shows high sales, businesses can allocate more staff and stock for that day\n",
        "Promotions can be launched mid-week to boost lower-performing days like Monday or Tuesday\n",
        "Understanding peak days allows for better forecasting and resource planning, improving efficiency and profitability"
      ]
    },
    {
      "cell_type": "markdown",
      "metadata": {
        "id": "Ag9LCva-p1cl"
      },
      "source": [
        "#### Chart - 13"
      ]
    },
    {
      "cell_type": "code",
      "execution_count": null,
      "metadata": {
        "id": "EUfxeq9-p1cl"
      },
      "outputs": [],
      "source": [
        "df = pd.read_csv(\"flipkart_com-ecommerce_sample.csv\")\n",
        "df = df.dropna(subset=['brand'])\n",
        "top_brands = df['brand'].value_counts().head(10).index\n",
        "filtered_df = df[df['brand'].isin(top_brands)]\n",
        "plt.figure(figsize=(10, 6))\n",
        "sns.countplot(data=filtered_df, x='brand', palette='pastel', order=top_brands)\n",
        "plt.title(\"Number of Transactions per Brand\")\n",
        "plt.xlabel(\"Brand\")\n",
        "plt.ylabel(\"Transaction Count\")\n",
        "plt.xticks(rotation=45)\n",
        "plt.tight_layout()\n",
        "plt.show()"
      ]
    },
    {
      "cell_type": "markdown",
      "metadata": {
        "id": "E6MkPsBcp1cl"
      },
      "source": [
        "##### 1. Why did you pick the specific chart?"
      ]
    },
    {
      "cell_type": "markdown",
      "metadata": {
        "id": "V22bRsFWp1cl"
      },
      "source": [
        "A count plot categorical bar plot is ideal for displaying the frequency of transactions per store"
      ]
    },
    {
      "cell_type": "markdown",
      "metadata": {
        "id": "2cELzS2fp1cl"
      },
      "source": [
        "##### 2. What is/are the insight(s) found from the chart?"
      ]
    },
    {
      "cell_type": "markdown",
      "metadata": {
        "id": "ozQPc2_Ip1cl"
      },
      "source": [
        "Which stores have the highest and lowest number of transactions\n",
        "Identify top-performing stores by traffic, which may correlate with better customer engagement or location advantage"
      ]
    },
    {
      "cell_type": "markdown",
      "metadata": {
        "id": "3MPXvC8up1cl"
      },
      "source": [
        "##### 3. Will the gained insights help creating a positive business impact?\n",
        "Are there any insights that lead to negative growth? Justify with specific reason."
      ]
    },
    {
      "cell_type": "markdown",
      "metadata": {
        "id": "GL8l1tdLp1cl"
      },
      "source": [
        "Positive Business Impact\n",
        "Helps in resource allocation: More staff, inventory, or promotions can be assigned to high-traffic stores\n",
        "Enables targeted improvement: Underperforming stores can be audited for issues like poor service, low visibility, or operational inefficiencies"
      ]
    },
    {
      "cell_type": "markdown",
      "metadata": {
        "id": "NC_X3p0fY2L0"
      },
      "source": [
        "#### Chart - 14 - Correlation Heatmap"
      ]
    },
    {
      "cell_type": "code",
      "execution_count": null,
      "metadata": {
        "id": "xyC9zolEZNRQ"
      },
      "outputs": [],
      "source": [
        "df = pd.read_csv(\"flipkart_com-ecommerce_sample.csv\")\n",
        "numeric_df = df.select_dtypes(include='number')\n",
        "corr_matrix = numeric_df.corr()\n",
        "plt.figure(figsize=(10, 6))\n",
        "sns.heatmap(corr_matrix, annot=True, cmap='coolwarm', linewidths=0.5)\n",
        "plt.title(\"Correlation Heatmap\")\n",
        "plt.tight_layout()\n",
        "plt.show()"
      ]
    },
    {
      "cell_type": "markdown",
      "metadata": {
        "id": "UV0SzAkaZNRQ"
      },
      "source": [
        "##### 1. Why did you pick the specific chart?"
      ]
    },
    {
      "cell_type": "markdown",
      "metadata": {
        "id": "DVPuT8LYZNRQ"
      },
      "source": [
        "A correlation heatmap is the best choice when analyzing the relationships between numeric variables in a dataset. It uses color intensity and annotated values to show how strongly variables are related"
      ]
    },
    {
      "cell_type": "markdown",
      "metadata": {
        "id": "YPEH6qLeZNRQ"
      },
      "source": [
        "##### 2. What is/are the insight(s) found from the chart?"
      ]
    },
    {
      "cell_type": "markdown",
      "metadata": {
        "id": "bfSqtnDqZNRR"
      },
      "source": [
        "Strong positive correlations ( Sales vs. Quantity or Sales vs. Price) show variables that increase together.\n",
        "Strong negative correlations may reveal inverse relationships\n",
        "Low or zero correlation indicates no linear relationship."
      ]
    },
    {
      "cell_type": "markdown",
      "metadata": {
        "id": "q29F0dvdveiT"
      },
      "source": [
        "#### Chart - 15 - Pair Plot"
      ]
    },
    {
      "cell_type": "code",
      "execution_count": null,
      "metadata": {
        "id": "o58-TEIhveiU"
      },
      "outputs": [],
      "source": [
        "df = pd.read_csv(\"flipkart_com-ecommerce_sample.csv\")\n",
        "numeric_cols = df.select_dtypes(include='number')\n",
        "cleaned_df = numeric_cols.dropna()\n",
        "sample_df = cleaned_df.sample(n=200, random_state=1) if len(cleaned_df) > 200 else cleaned_df\n",
        "sns.pairplot(sample_df)\n",
        "plt.suptitle(\"Pairwise Relationships Between Numeric Features\", y=1.02)\n",
        "plt.show()"
      ]
    },
    {
      "cell_type": "markdown",
      "metadata": {
        "id": "EXh0U9oCveiU"
      },
      "source": [
        "##### 1. Why did you pick the specific chart?"
      ]
    },
    {
      "cell_type": "markdown",
      "metadata": {
        "id": "eMmPjTByveiU"
      },
      "source": [
        "A pair plot  is ideal for exploring pairwise relationships between multiple numerical features"
      ]
    },
    {
      "cell_type": "markdown",
      "metadata": {
        "id": "22aHeOlLveiV"
      },
      "source": [
        "##### 2. What is/are the insight(s) found from the chart?"
      ]
    },
    {
      "cell_type": "markdown",
      "metadata": {
        "id": "uPQ8RGwHveiV"
      },
      "source": [
        "Positive or negative trends between variables ( Sales vs. Quantity)\n",
        "Tightly grouped scatter points, suggesting strong correlation\n",
        "Outliers or extreme values that could impact modeling\n",
        "Clusters, which may indicate customer segments or store type"
      ]
    },
    {
      "cell_type": "markdown",
      "metadata": {
        "id": "JcMwzZxoAimU"
      },
      "source": [
        "## **5. Solution to Business Objective**"
      ]
    },
    {
      "cell_type": "markdown",
      "metadata": {
        "id": "8G2x9gOozGDZ"
      },
      "source": [
        "#### What do you suggest the client to achieve Business Objective ?\n",
        "Explain Briefly."
      ]
    },
    {
      "cell_type": "markdown",
      "metadata": {
        "id": "pASKb0qOza21"
      },
      "source": [
        "To help the client achieve their business objective which likely involves maximizing sales, improving customer engagement, and boosting store performance here is a concise strategic plan based on insights gained from EDA\n",
        "Sales vary significantly by day of the week (e.g., higher on weekends).\n",
        "Transaction volume differs across stores, highlighting top and underperforming branches.\n",
        "Correlations suggest that variables like Quantity, Discount, and Price affect Sales and Profit.\n",
        "Pair plot revealed outliers and possible customer/transaction patterns.\n",
        "Optimize Operations Based on Weekday Trends.\n",
        "Target Store-Level Improvements\n",
        "Leverage Data-Driven Promotions\n",
        "Build Predictive Models"
      ]
    },
    {
      "cell_type": "markdown",
      "metadata": {
        "id": "gCX9965dhzqZ"
      },
      "source": [
        "# **Conclusion**"
      ]
    },
    {
      "cell_type": "markdown",
      "metadata": {
        "id": "Fjb1IsQkh3yE"
      },
      "source": [
        "# In conclusion, data visualization and pattern recognition not only answered the business objective but also uncovered actionable opportunities to improve sales, efficiency, and customer satisfaction  paving the way for sustainable and scalable business growth"
      ]
    },
    {
      "cell_type": "markdown",
      "metadata": {
        "id": "gIfDvo9L0UH2"
      },
      "source": [
        "### ***Hurrah! You have successfully completed your EDA Capstone Project !!!***"
      ]
    }
  ],
  "metadata": {
    "colab": {
      "collapsed_sections": [
        "vncDsAP0Gaoa",
        "FJNUwmbgGyua",
        "w6K7xa23Elo4",
        "yQaldy8SH6Dl",
        "PH-0ReGfmX4f",
        "mDgbUHAGgjLW",
        "O_i_v8NEhb9l",
        "HhfV-JJviCcP",
        "Y3lxredqlCYt",
        "3RnN4peoiCZX",
        "x71ZqKXriCWQ",
        "7hBIi_osiCS2",
        "JlHwYmJAmNHm",
        "35m5QtbWiB9F",
        "PoPl-ycgm1ru",
        "H0kj-8xxnORC",
        "nA9Y7ga8ng1Z",
        "PBTbrJXOngz2",
        "u3PMJOP6ngxN",
        "dauF4eBmngu3",
        "bKJF3rekwFvQ",
        "MSa1f5Uengrz",
        "GF8Ens_Soomf",
        "0wOQAZs5pc--",
        "K5QZ13OEpz2H",
        "lQ7QKXXCp7Bj",
        "448CDAPjqfQr",
        "KSlN3yHqYklG",
        "t6dVpIINYklI",
        "ijmpgYnKYklI",
        "-JiQyfWJYklI",
        "EM7whBJCYoAo",
        "fge-S5ZAYoAp",
        "85gYPyotYoAp",
        "RoGjAbkUYoAp",
        "4Of9eVA-YrdM",
        "iky9q4vBYrdO",
        "F6T5p64dYrdO",
        "y-Ehk30pYrdP",
        "bamQiAODYuh1",
        "QHF8YVU7Yuh3",
        "GwzvFGzlYuh3",
        "qYpmQ266Yuh3",
        "OH-pJp9IphqM",
        "bbFf2-_FphqN",
        "_ouA3fa0phqN",
        "Seke61FWphqN",
        "PIIx-8_IphqN",
        "t27r6nlMphqO",
        "r2jJGEOYphqO",
        "b0JNsNcRphqO",
        "BZR9WyysphqO",
        "jj7wYXLtphqO",
        "eZrbJ2SmphqO",
        "rFu4xreNphqO",
        "YJ55k-q6phqO",
        "gCFgpxoyphqP",
        "OVtJsKN_phqQ",
        "lssrdh5qphqQ",
        "U2RJ9gkRphqQ",
        "1M8mcRywphqQ",
        "tgIPom80phqQ",
        "JMzcOPDDphqR",
        "x-EpHcCOp1ci",
        "X_VqEhTip1ck",
        "8zGJKyg5p1ck",
        "PVzmfK_Ep1ck",
        "n3dbpmDWp1ck",
        "ylSl6qgtp1ck",
        "ZWILFDl5p1ck",
        "M7G43BXep1ck",
        "Ag9LCva-p1cl",
        "E6MkPsBcp1cl",
        "2cELzS2fp1cl",
        "3MPXvC8up1cl",
        "NC_X3p0fY2L0",
        "UV0SzAkaZNRQ",
        "YPEH6qLeZNRQ",
        "q29F0dvdveiT",
        "EXh0U9oCveiU",
        "22aHeOlLveiV",
        "JcMwzZxoAimU",
        "8G2x9gOozGDZ",
        "gCX9965dhzqZ",
        "gIfDvo9L0UH2"
      ],
      "private_outputs": true,
      "provenance": []
    },
    "kernelspec": {
      "display_name": "Python 3 (ipykernel)",
      "language": "python",
      "name": "python3"
    },
    "language_info": {
      "codemirror_mode": {
        "name": "ipython",
        "version": 3
      },
      "file_extension": ".py",
      "mimetype": "text/x-python",
      "name": "python",
      "nbconvert_exporter": "python",
      "pygments_lexer": "ipython3",
      "version": "3.12.10"
    }
  },
  "nbformat": 4,
  "nbformat_minor": 0
}